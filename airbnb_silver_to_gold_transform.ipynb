{
 "cells": [
  {
   "cell_type": "markdown",
   "id": "c9dd84b9",
   "metadata": {},
   "source": [
    "# Transform from Silver to Gold"
   ]
  },
  {
   "cell_type": "markdown",
   "id": "6318612f-b863-4bee-ae7e-b4fb64300e8c",
   "metadata": {
    "jp-MarkdownHeadingCollapsed": true,
    "microsoft": {
     "language": "python",
     "language_group": "synapse_pyspark"
    },
    "nteract": {
     "transient": {
      "deleting": false
     }
    }
   },
   "source": [
    "## Dim Locations"
   ]
  },
  {
   "cell_type": "markdown",
   "id": "2d2952fc-dabe-4eaa-99e6-55bc1844d3b6",
   "metadata": {
    "jp-MarkdownHeadingCollapsed": true,
    "microsoft": {
     "language": "python",
     "language_group": "synapse_pyspark"
    },
    "nteract": {
     "transient": {
      "deleting": false
     }
    }
   },
   "source": [
    "### Read Silver Table"
   ]
  },
  {
   "cell_type": "code",
   "execution_count": null,
   "id": "463c2d2d-a63e-4a04-8884-d33e31dbc48a",
   "metadata": {
    "jupyter": {
     "outputs_hidden": false,
     "source_hidden": false
    },
    "microsoft": {
     "language": "python",
     "language_group": "synapse_pyspark"
    },
    "nteract": {
     "transient": {
      "deleting": false
     }
    }
   },
   "outputs": [],
   "source": [
    "df_silver_location = spark.read.table('silver_locations')"
   ]
  },
  {
   "cell_type": "markdown",
   "id": "4b67c7ad-2e40-4d4c-a840-20d1967612b9",
   "metadata": {
    "jp-MarkdownHeadingCollapsed": true,
    "microsoft": {
     "language": "python",
     "language_group": "synapse_pyspark"
    },
    "nteract": {
     "transient": {
      "deleting": false
     }
    }
   },
   "source": [
    "### Transform Table"
   ]
  },
  {
   "cell_type": "code",
   "execution_count": null,
   "id": "090b68c2-affb-4145-a6e4-33cc08019c54",
   "metadata": {
    "jupyter": {
     "outputs_hidden": false,
     "source_hidden": false
    },
    "microsoft": {
     "language": "python",
     "language_group": "synapse_pyspark"
    },
    "nteract": {
     "transient": {
      "deleting": false
     }
    }
   },
   "outputs": [],
   "source": [
    "df_dim_location = df_silver_location.select(\n",
    "    df_silver_location['location_id'],\n",
    "    df_silver_location['city'],\n",
    "    df_silver_location['province_state'],\n",
    "    df_silver_location['country']\n",
    "    )"
   ]
  },
  {
   "cell_type": "markdown",
   "id": "08cb767f-9145-4455-942e-22100e9865e0",
   "metadata": {
    "jp-MarkdownHeadingCollapsed": true,
    "microsoft": {
     "language": "python",
     "language_group": "synapse_pyspark"
    },
    "nteract": {
     "transient": {
      "deleting": false
     }
    }
   },
   "source": [
    "### Load Gold Table dim_locations"
   ]
  },
  {
   "cell_type": "code",
   "execution_count": null,
   "id": "c0a159bc-4d28-4a5f-8964-017f7c1024ed",
   "metadata": {
    "jupyter": {
     "outputs_hidden": false,
     "source_hidden": false
    },
    "microsoft": {
     "language": "python",
     "language_group": "synapse_pyspark"
    },
    "nteract": {
     "transient": {
      "deleting": false
     }
    }
   },
   "outputs": [],
   "source": [
    "df_dim_location.write.format(\"delta\").mode(\"overwrite\").save(\"Tables/dim_locations\")"
   ]
  },
  {
   "cell_type": "markdown",
   "id": "ab59d7b8-15f2-4e2a-aebd-5959f1d92fbf",
   "metadata": {
    "jp-MarkdownHeadingCollapsed": true,
    "microsoft": {
     "language": "python",
     "language_group": "synapse_pyspark"
    },
    "nteract": {
     "transient": {
      "deleting": false
     }
    }
   },
   "source": [
    "## Dim Reviews"
   ]
  },
  {
   "cell_type": "markdown",
   "id": "adc9437f-d757-4d50-898a-1046718bb39d",
   "metadata": {
    "microsoft": {
     "language": "python",
     "language_group": "synapse_pyspark"
    },
    "nteract": {
     "transient": {
      "deleting": false
     }
    }
   },
   "source": [
    "### Read Silver Table"
   ]
  },
  {
   "cell_type": "code",
   "execution_count": null,
   "id": "3e164dfd-1ab5-4f7c-b0c0-7b0c3553b2f4",
   "metadata": {
    "jupyter": {
     "outputs_hidden": false,
     "source_hidden": false
    },
    "microsoft": {
     "language": "python",
     "language_group": "synapse_pyspark"
    },
    "nteract": {
     "transient": {
      "deleting": false
     }
    }
   },
   "outputs": [],
   "source": [
    "df_silver_reviews = spark.read.table('silver_reviews')\n",
    "df_dim_reviews = df_silver_reviews"
   ]
  },
  {
   "cell_type": "markdown",
   "id": "e948b3e3-b780-497d-9b99-241a5ad265b1",
   "metadata": {
    "microsoft": {
     "language": "python",
     "language_group": "synapse_pyspark"
    },
    "nteract": {
     "transient": {
      "deleting": false
     }
    }
   },
   "source": [
    "### Load Gold Table dim_reviews"
   ]
  },
  {
   "cell_type": "code",
   "execution_count": null,
   "id": "625b4438-4ca5-4b3f-ab97-64979ee5085a",
   "metadata": {
    "advisor": {
     "adviceMetadata": "{\"artifactId\":\"5510963e-23c4-4dc3-960e-90e9ab40f21a\",\"activityId\":\"c09d528a-1658-449c-9b98-73c84e483a44\",\"applicationId\":\"application_1719030316775_0001\",\"jobGroupId\":\"4\",\"advices\":{\"warn\":1}}"
    },
    "jupyter": {
     "outputs_hidden": false,
     "source_hidden": false
    },
    "microsoft": {
     "language": "python",
     "language_group": "synapse_pyspark"
    },
    "nteract": {
     "transient": {
      "deleting": false
     }
    }
   },
   "outputs": [],
   "source": [
    "df_dim_reviews.write.format(\"delta\").mode(\"overwrite\").save(\"Tables/dim_reviews\")"
   ]
  },
  {
   "cell_type": "markdown",
   "id": "3ebab4fb-f4fd-45f3-a08c-1225fc14ac41",
   "metadata": {
    "jp-MarkdownHeadingCollapsed": true,
    "microsoft": {
     "language": "python",
     "language_group": "synapse_pyspark"
    },
    "nteract": {
     "transient": {
      "deleting": false
     }
    }
   },
   "source": [
    "## Dim Hosts"
   ]
  },
  {
   "cell_type": "markdown",
   "id": "70a1f3b5-a92b-4f8d-b8c1-54656795770a",
   "metadata": {
    "microsoft": {
     "language": "python",
     "language_group": "synapse_pyspark"
    },
    "nteract": {
     "transient": {
      "deleting": false
     }
    }
   },
   "source": [
    "### Read Table"
   ]
  },
  {
   "cell_type": "code",
   "execution_count": null,
   "id": "5f994491-6779-4a45-9214-25cacd897563",
   "metadata": {
    "jupyter": {
     "outputs_hidden": false,
     "source_hidden": false
    },
    "microsoft": {
     "language": "python",
     "language_group": "synapse_pyspark"
    },
    "nteract": {
     "transient": {
      "deleting": false
     }
    }
   },
   "outputs": [],
   "source": [
    "df_silver_listings = spark.read.table('silver_listings')"
   ]
  },
  {
   "cell_type": "markdown",
   "id": "ad6e7545-acb3-48ce-8a49-dff8b381dc43",
   "metadata": {
    "microsoft": {
     "language": "python",
     "language_group": "synapse_pyspark"
    },
    "nteract": {
     "transient": {
      "deleting": false
     }
    }
   },
   "source": [
    "### Transform Table"
   ]
  },
  {
   "cell_type": "code",
   "execution_count": null,
   "id": "f58128f2-38b5-4617-abe2-309474baee4e",
   "metadata": {
    "jupyter": {
     "outputs_hidden": false,
     "source_hidden": false
    },
    "microsoft": {
     "language": "python",
     "language_group": "synapse_pyspark"
    },
    "nteract": {
     "transient": {
      "deleting": false
     }
    }
   },
   "outputs": [],
   "source": [
    "df_dim_hosts = df_silver_listings.select(\n",
    "    df_silver_listings['host_id'],\n",
    "    df_silver_listings['host_since'],\n",
    "    df_silver_listings['host_location'],\n",
    "    df_silver_listings['host_response_time'],\n",
    "    df_silver_listings['host_response_rate'],\n",
    "    df_silver_listings['host_acceptance_rate'],\n",
    "    df_silver_listings['host_is_superhost'],\n",
    "    df_silver_listings['host_total_listings_count'],\n",
    "    df_silver_listings['host_has_profile_pic'],\n",
    "    df_silver_listings['host_identity_verified']\n",
    ")"
   ]
  },
  {
   "cell_type": "code",
   "execution_count": null,
   "id": "0d9c7ada-7f97-4afa-bf46-0ea169fc87a8",
   "metadata": {
    "jupyter": {
     "outputs_hidden": false,
     "source_hidden": false
    },
    "microsoft": {
     "language": "python",
     "language_group": "synapse_pyspark"
    },
    "nteract": {
     "transient": {
      "deleting": false
     }
    }
   },
   "outputs": [],
   "source": [
    "df_dim_hosts = df_dim_hosts.drop_duplicates(['host_id'])"
   ]
  },
  {
   "cell_type": "markdown",
   "id": "3791c4e5-ab66-43e8-8a5e-29edc9380223",
   "metadata": {
    "microsoft": {
     "language": "python",
     "language_group": "synapse_pyspark"
    },
    "nteract": {
     "transient": {
      "deleting": false
     }
    }
   },
   "source": [
    "### Load Gold Table dim_hosts"
   ]
  },
  {
   "cell_type": "code",
   "execution_count": null,
   "id": "b017255a-2e87-4ff1-9a2f-d04e8450011a",
   "metadata": {
    "jupyter": {
     "outputs_hidden": false,
     "source_hidden": false
    },
    "microsoft": {
     "language": "python",
     "language_group": "synapse_pyspark"
    },
    "nteract": {
     "transient": {
      "deleting": false
     }
    }
   },
   "outputs": [],
   "source": [
    "df_dim_hosts.write.format(\"delta\").mode(\"overwrite\").save(\"Tables/dim_hosts\")"
   ]
  },
  {
   "cell_type": "markdown",
   "id": "c299251f-5a79-4716-8091-e8459c0c6634",
   "metadata": {
    "jp-MarkdownHeadingCollapsed": true,
    "microsoft": {
     "language": "python",
     "language_group": "synapse_pyspark"
    },
    "nteract": {
     "transient": {
      "deleting": false
     }
    }
   },
   "source": [
    "## Fact Listings"
   ]
  },
  {
   "cell_type": "markdown",
   "id": "c9d00c36-b298-4643-bd9f-6b265ee4ca8a",
   "metadata": {
    "microsoft": {
     "language": "python",
     "language_group": "synapse_pyspark"
    },
    "nteract": {
     "transient": {
      "deleting": false
     }
    }
   },
   "source": [
    "### Read Table"
   ]
  },
  {
   "cell_type": "code",
   "execution_count": null,
   "id": "eb57786d-4629-4a9c-8658-e1c2c6c64edc",
   "metadata": {
    "jupyter": {
     "outputs_hidden": false,
     "source_hidden": false
    },
    "microsoft": {
     "language": "python",
     "language_group": "synapse_pyspark"
    },
    "nteract": {
     "transient": {
      "deleting": false
     }
    }
   },
   "outputs": [],
   "source": [
    "df_silver_listings = spark.read.table('silver_listings')"
   ]
  },
  {
   "cell_type": "markdown",
   "id": "6d1d45c0-cae1-49ac-b777-8b4ac997c04a",
   "metadata": {
    "nteract": {
     "transient": {
      "deleting": false
     }
    }
   },
   "source": [
    "### Transform Table"
   ]
  },
  {
   "cell_type": "code",
   "execution_count": null,
   "id": "e25e764e-1de9-4ac5-b5ac-e7241ecb68e8",
   "metadata": {
    "jupyter": {
     "outputs_hidden": false,
     "source_hidden": false
    },
    "microsoft": {
     "language": "python",
     "language_group": "synapse_pyspark"
    },
    "nteract": {
     "transient": {
      "deleting": false
     }
    }
   },
   "outputs": [],
   "source": [
    "df_fact_listings = df_silver_listings.select(\n",
    "    df_silver_listings['listing_id'],\n",
    "    df_silver_listings['host_id'],\n",
    "    df_silver_listings['location_id'],\n",
    "    df_silver_listings['listing_name'],\n",
    "    df_silver_listings['neighbourhood'],\n",
    "    df_silver_listings['latitude'],\n",
    "    df_silver_listings['longitude'],\n",
    "    df_silver_listings['property_type'],\n",
    "    df_silver_listings['room_type'],\n",
    "    df_silver_listings['accommodates'],\n",
    "    df_silver_listings['bedrooms'],\n",
    "    df_silver_listings['amenities'],\n",
    "    df_silver_listings['price'],\n",
    "    df_silver_listings['minimum_nights'],\n",
    "    df_silver_listings['maximum_nights'],\n",
    "    df_silver_listings['first_review'],\n",
    "    df_silver_listings['last_review'],\n",
    "    df_silver_listings['review_scores_rating'],\n",
    "    df_silver_listings['review_scores_accuracy'],\n",
    "    df_silver_listings['review_scores_cleanliness'],\n",
    "    df_silver_listings['review_scores_checkin'],\n",
    "    df_silver_listings['review_scores_communication'],\n",
    "    df_silver_listings['review_scores_location'],\n",
    "    df_silver_listings['review_scores_value'],\n",
    "    df_silver_listings['instant_bookable']\n",
    ")"
   ]
  },
  {
   "cell_type": "markdown",
   "id": "cca06095-307d-46ac-8820-af4900e7b05a",
   "metadata": {
    "microsoft": {
     "language": "python",
     "language_group": "synapse_pyspark"
    },
    "nteract": {
     "transient": {
      "deleting": false
     }
    }
   },
   "source": [
    "### Load Gold Table fact_listings"
   ]
  },
  {
   "cell_type": "code",
   "execution_count": null,
   "id": "edc43739-6135-40e8-a4d8-8c908b60e03d",
   "metadata": {
    "jupyter": {
     "outputs_hidden": false,
     "source_hidden": false
    },
    "microsoft": {
     "language": "python",
     "language_group": "synapse_pyspark"
    },
    "nteract": {
     "transient": {
      "deleting": false
     }
    }
   },
   "outputs": [],
   "source": [
    "df_fact_listings.write.format(\"delta\").mode(\"overwrite\").save(\"Tables/fact_listings\")"
   ]
  }
 ],
 "metadata": {
  "dependencies": {
   "lakehouse": {
    "default_lakehouse": "e8b89f9a-04d9-441c-97d1-0e7695063239",
    "default_lakehouse_name": "airbnb_lh",
    "default_lakehouse_workspace_id": "b3847ca5-bbe3-4234-b60e-a995339590e7"
   }
  },
  "kernel_info": {
   "name": "synapse_pyspark"
  },
  "kernelspec": {
   "display_name": "synapse_pyspark",
   "name": "synapse_pyspark"
  },
  "language_info": {
   "name": "python"
  },
  "microsoft": {
   "language": "python",
   "language_group": "synapse_pyspark",
   "ms_spell_check": {
    "ms_spell_check_language": "en"
   }
  },
  "nteract": {
   "version": "nteract-front-end@1.0.0"
  },
  "spark_compute": {
   "compute_id": "/trident/default"
  },
  "widgets": {}
 },
 "nbformat": 4,
 "nbformat_minor": 5
}
