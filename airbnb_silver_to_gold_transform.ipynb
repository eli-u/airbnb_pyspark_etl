{
 "cells": [
  {
   "cell_type": "markdown",
   "id": "c9dd84b9",
   "metadata": {},
   "source": [
    "# Transform from Silver to Gold"
   ]
  },
  {
   "cell_type": "markdown",
   "id": "6318612f-b863-4bee-ae7e-b4fb64300e8c",
   "metadata": {
    "jp-MarkdownHeadingCollapsed": true,
    "microsoft": {
     "language": "python",
     "language_group": "synapse_pyspark"
    },
    "nteract": {
     "transient": {
      "deleting": false
     }
    }
   },
   "source": [
    "## Dim Locations"
   ]
  },
  {
   "cell_type": "code",
   "execution_count": null,
   "id": "95646576",
   "metadata": {},
   "outputs": [],
   "source": []
  },
  {
   "cell_type": "markdown",
   "id": "2d2952fc-dabe-4eaa-99e6-55bc1844d3b6",
   "metadata": {
    "jp-MarkdownHeadingCollapsed": true,
    "microsoft": {
     "language": "python",
     "language_group": "synapse_pyspark"
    },
    "nteract": {
     "transient": {
      "deleting": false
     }
    }
   },
   "source": [
    "### Read Silver Table"
   ]
  },
  {
   "cell_type": "code",
   "execution_count": 6,
   "id": "463c2d2d-a63e-4a04-8884-d33e31dbc48a",
   "metadata": {
    "jupyter": {
     "outputs_hidden": false,
     "source_hidden": false
    },
    "microsoft": {
     "language": "python",
     "language_group": "synapse_pyspark"
    },
    "nteract": {
     "transient": {
      "deleting": false
     }
    }
   },
   "outputs": [
    {
     "data": {
      "application/vnd.livy.statement-meta+json": {
       "execution_finish_time": "2024-06-22T04:02:35.1048334Z",
       "execution_start_time": "2024-06-22T04:02:33.2758463Z",
       "livy_statement_state": "available",
       "parent_msg_id": "b6d058f3-346f-4bc8-82f2-80557c52828a",
       "queued_time": "2024-06-22T04:02:32.5323535Z",
       "session_id": "32a7253a-0995-46f3-973d-e9561254ae8a",
       "session_start_time": null,
       "spark_pool": null,
       "state": "finished",
       "statement_id": 8,
       "statement_ids": [
        8
       ]
      },
      "text/plain": [
       "StatementMeta(, 32a7253a-0995-46f3-973d-e9561254ae8a, 8, Finished, Available)"
      ]
     },
     "metadata": {},
     "output_type": "display_data"
    }
   ],
   "source": [
    "df_silver_location = spark.read.table('silver_locations')"
   ]
  },
  {
   "cell_type": "markdown",
   "id": "4b67c7ad-2e40-4d4c-a840-20d1967612b9",
   "metadata": {
    "jp-MarkdownHeadingCollapsed": true,
    "microsoft": {
     "language": "python",
     "language_group": "synapse_pyspark"
    },
    "nteract": {
     "transient": {
      "deleting": false
     }
    }
   },
   "source": [
    "### Transform Table"
   ]
  },
  {
   "cell_type": "code",
   "execution_count": 7,
   "id": "090b68c2-affb-4145-a6e4-33cc08019c54",
   "metadata": {
    "jupyter": {
     "outputs_hidden": false,
     "source_hidden": false
    },
    "microsoft": {
     "language": "python",
     "language_group": "synapse_pyspark"
    },
    "nteract": {
     "transient": {
      "deleting": false
     }
    }
   },
   "outputs": [
    {
     "data": {
      "application/vnd.livy.statement-meta+json": {
       "execution_finish_time": "2024-06-22T04:02:57.2451471Z",
       "execution_start_time": "2024-06-22T04:02:56.9342367Z",
       "livy_statement_state": "available",
       "parent_msg_id": "5fa8b4c4-1454-4832-9322-496e9183a98f",
       "queued_time": "2024-06-22T04:02:56.2282978Z",
       "session_id": "32a7253a-0995-46f3-973d-e9561254ae8a",
       "session_start_time": null,
       "spark_pool": null,
       "state": "finished",
       "statement_id": 9,
       "statement_ids": [
        9
       ]
      },
      "text/plain": [
       "StatementMeta(, 32a7253a-0995-46f3-973d-e9561254ae8a, 9, Finished, Available)"
      ]
     },
     "metadata": {},
     "output_type": "display_data"
    }
   ],
   "source": [
    "df_dim_location = df_silver_location.select(\n",
    "    df_silver_location['location_id'],\n",
    "    df_silver_location['city'],\n",
    "    df_silver_location['province_state'],\n",
    "    df_silver_location['country']\n",
    "    )"
   ]
  },
  {
   "cell_type": "markdown",
   "id": "08cb767f-9145-4455-942e-22100e9865e0",
   "metadata": {
    "jp-MarkdownHeadingCollapsed": true,
    "microsoft": {
     "language": "python",
     "language_group": "synapse_pyspark"
    },
    "nteract": {
     "transient": {
      "deleting": false
     }
    }
   },
   "source": [
    "### Load Gold Table dim_locations"
   ]
  },
  {
   "cell_type": "code",
   "execution_count": 8,
   "id": "c0a159bc-4d28-4a5f-8964-017f7c1024ed",
   "metadata": {
    "jupyter": {
     "outputs_hidden": false,
     "source_hidden": false
    },
    "microsoft": {
     "language": "python",
     "language_group": "synapse_pyspark"
    },
    "nteract": {
     "transient": {
      "deleting": false
     }
    }
   },
   "outputs": [
    {
     "data": {
      "application/vnd.livy.statement-meta+json": {
       "execution_finish_time": "2024-06-22T04:03:11.9658674Z",
       "execution_start_time": "2024-06-22T04:03:08.220529Z",
       "livy_statement_state": "available",
       "parent_msg_id": "d30ba911-da4d-49d3-95eb-9a5ec87d5838",
       "queued_time": "2024-06-22T04:03:07.5824487Z",
       "session_id": "32a7253a-0995-46f3-973d-e9561254ae8a",
       "session_start_time": null,
       "spark_pool": null,
       "state": "finished",
       "statement_id": 10,
       "statement_ids": [
        10
       ]
      },
      "text/plain": [
       "StatementMeta(, 32a7253a-0995-46f3-973d-e9561254ae8a, 10, Finished, Available)"
      ]
     },
     "metadata": {},
     "output_type": "display_data"
    }
   ],
   "source": [
    "df_dim_location.write.format(\"delta\").mode(\"overwrite\").save(\"Tables/dim_locations\")"
   ]
  },
  {
   "cell_type": "markdown",
   "id": "ab59d7b8-15f2-4e2a-aebd-5959f1d92fbf",
   "metadata": {
    "jp-MarkdownHeadingCollapsed": true,
    "microsoft": {
     "language": "python",
     "language_group": "synapse_pyspark"
    },
    "nteract": {
     "transient": {
      "deleting": false
     }
    }
   },
   "source": [
    "## Dim Reviews"
   ]
  },
  {
   "cell_type": "markdown",
   "id": "adc9437f-d757-4d50-898a-1046718bb39d",
   "metadata": {
    "microsoft": {
     "language": "python",
     "language_group": "synapse_pyspark"
    },
    "nteract": {
     "transient": {
      "deleting": false
     }
    }
   },
   "source": [
    "### Read Silver Table"
   ]
  },
  {
   "cell_type": "code",
   "execution_count": 1,
   "id": "3e164dfd-1ab5-4f7c-b0c0-7b0c3553b2f4",
   "metadata": {
    "jupyter": {
     "outputs_hidden": false,
     "source_hidden": false
    },
    "microsoft": {
     "language": "python",
     "language_group": "synapse_pyspark"
    },
    "nteract": {
     "transient": {
      "deleting": false
     }
    }
   },
   "outputs": [
    {
     "data": {
      "application/vnd.livy.statement-meta+json": {
       "execution_finish_time": "2024-06-22T04:29:48.7754782Z",
       "execution_start_time": "2024-06-22T04:29:34.1541302Z",
       "livy_statement_state": "available",
       "parent_msg_id": "10ae830d-a557-4e43-b8e6-f44ef520f049",
       "queued_time": "2024-06-22T04:29:23.4758157Z",
       "session_id": "c09d528a-1658-449c-9b98-73c84e483a44",
       "session_start_time": "2024-06-22T04:29:23.8981551Z",
       "spark_pool": null,
       "state": "finished",
       "statement_id": 3,
       "statement_ids": [
        3
       ]
      },
      "text/plain": [
       "StatementMeta(, c09d528a-1658-449c-9b98-73c84e483a44, 3, Finished, Available)"
      ]
     },
     "metadata": {},
     "output_type": "display_data"
    }
   ],
   "source": [
    "df_silver_reviews = spark.read.table('silver_reviews')\n",
    "df_dim_reviews = df_silver_reviews"
   ]
  },
  {
   "cell_type": "markdown",
   "id": "e948b3e3-b780-497d-9b99-241a5ad265b1",
   "metadata": {
    "microsoft": {
     "language": "python",
     "language_group": "synapse_pyspark"
    },
    "nteract": {
     "transient": {
      "deleting": false
     }
    }
   },
   "source": [
    "### Load Gold Table dim_reviews"
   ]
  },
  {
   "cell_type": "code",
   "execution_count": 2,
   "id": "625b4438-4ca5-4b3f-ab97-64979ee5085a",
   "metadata": {
    "advisor": {
     "adviceMetadata": "{\"artifactId\":\"5510963e-23c4-4dc3-960e-90e9ab40f21a\",\"activityId\":\"c09d528a-1658-449c-9b98-73c84e483a44\",\"applicationId\":\"application_1719030316775_0001\",\"jobGroupId\":\"4\",\"advices\":{\"warn\":1}}"
    },
    "jupyter": {
     "outputs_hidden": false,
     "source_hidden": false
    },
    "microsoft": {
     "language": "python",
     "language_group": "synapse_pyspark"
    },
    "nteract": {
     "transient": {
      "deleting": false
     }
    }
   },
   "outputs": [
    {
     "data": {
      "application/vnd.livy.statement-meta+json": {
       "execution_finish_time": "2024-06-22T04:30:31.2144733Z",
       "execution_start_time": "2024-06-22T04:30:07.3657294Z",
       "livy_statement_state": "available",
       "parent_msg_id": "3cada0e3-cc95-4769-bf61-0d3e34c9eaaf",
       "queued_time": "2024-06-22T04:30:06.7505268Z",
       "session_id": "c09d528a-1658-449c-9b98-73c84e483a44",
       "session_start_time": null,
       "spark_pool": null,
       "state": "finished",
       "statement_id": 4,
       "statement_ids": [
        4
       ]
      },
      "text/plain": [
       "StatementMeta(, c09d528a-1658-449c-9b98-73c84e483a44, 4, Finished, Available)"
      ]
     },
     "metadata": {},
     "output_type": "display_data"
    }
   ],
   "source": [
    "df_dim_reviews.write.format(\"delta\").mode(\"overwrite\").save(\"Tables/dim_reviews\")"
   ]
  },
  {
   "cell_type": "markdown",
   "id": "3ebab4fb-f4fd-45f3-a08c-1225fc14ac41",
   "metadata": {
    "jp-MarkdownHeadingCollapsed": true,
    "microsoft": {
     "language": "python",
     "language_group": "synapse_pyspark"
    },
    "nteract": {
     "transient": {
      "deleting": false
     }
    }
   },
   "source": [
    "## Dim Hosts"
   ]
  },
  {
   "cell_type": "markdown",
   "id": "70a1f3b5-a92b-4f8d-b8c1-54656795770a",
   "metadata": {
    "microsoft": {
     "language": "python",
     "language_group": "synapse_pyspark"
    },
    "nteract": {
     "transient": {
      "deleting": false
     }
    }
   },
   "source": [
    "### Read Table"
   ]
  },
  {
   "cell_type": "code",
   "execution_count": 3,
   "id": "5f994491-6779-4a45-9214-25cacd897563",
   "metadata": {
    "jupyter": {
     "outputs_hidden": false,
     "source_hidden": false
    },
    "microsoft": {
     "language": "python",
     "language_group": "synapse_pyspark"
    },
    "nteract": {
     "transient": {
      "deleting": false
     }
    }
   },
   "outputs": [
    {
     "data": {
      "application/vnd.livy.statement-meta+json": {
       "execution_finish_time": "2024-06-22T04:32:03.5115539Z",
       "execution_start_time": "2024-06-22T04:31:53.2651043Z",
       "livy_statement_state": "available",
       "parent_msg_id": "454694a9-a960-42aa-a41b-4cfebed57058",
       "queued_time": "2024-06-22T04:31:52.6648506Z",
       "session_id": "c09d528a-1658-449c-9b98-73c84e483a44",
       "session_start_time": null,
       "spark_pool": null,
       "state": "finished",
       "statement_id": 5,
       "statement_ids": [
        5
       ]
      },
      "text/plain": [
       "StatementMeta(, c09d528a-1658-449c-9b98-73c84e483a44, 5, Finished, Available)"
      ]
     },
     "metadata": {},
     "output_type": "display_data"
    }
   ],
   "source": [
    "df_silver_listings = spark.read.table('silver_listings')"
   ]
  },
  {
   "cell_type": "markdown",
   "id": "ad6e7545-acb3-48ce-8a49-dff8b381dc43",
   "metadata": {
    "microsoft": {
     "language": "python",
     "language_group": "synapse_pyspark"
    },
    "nteract": {
     "transient": {
      "deleting": false
     }
    }
   },
   "source": [
    "### Transform Table"
   ]
  },
  {
   "cell_type": "code",
   "execution_count": 4,
   "id": "f58128f2-38b5-4617-abe2-309474baee4e",
   "metadata": {
    "jupyter": {
     "outputs_hidden": false,
     "source_hidden": false
    },
    "microsoft": {
     "language": "python",
     "language_group": "synapse_pyspark"
    },
    "nteract": {
     "transient": {
      "deleting": false
     }
    }
   },
   "outputs": [
    {
     "data": {
      "application/vnd.livy.statement-meta+json": {
       "execution_finish_time": "2024-06-22T04:32:13.7106576Z",
       "execution_start_time": "2024-06-22T04:32:13.394373Z",
       "livy_statement_state": "available",
       "parent_msg_id": "66abe90f-abf3-40f2-bc97-1a9001974dc7",
       "queued_time": "2024-06-22T04:32:12.7070209Z",
       "session_id": "c09d528a-1658-449c-9b98-73c84e483a44",
       "session_start_time": null,
       "spark_pool": null,
       "state": "finished",
       "statement_id": 6,
       "statement_ids": [
        6
       ]
      },
      "text/plain": [
       "StatementMeta(, c09d528a-1658-449c-9b98-73c84e483a44, 6, Finished, Available)"
      ]
     },
     "metadata": {},
     "output_type": "display_data"
    }
   ],
   "source": [
    "df_dim_hosts = df_silver_listings.select(\n",
    "    df_silver_listings['host_id'],\n",
    "    df_silver_listings['host_since'],\n",
    "    df_silver_listings['host_location'],\n",
    "    df_silver_listings['host_response_time'],\n",
    "    df_silver_listings['host_response_rate'],\n",
    "    df_silver_listings['host_acceptance_rate'],\n",
    "    df_silver_listings['host_is_superhost'],\n",
    "    df_silver_listings['host_total_listings_count'],\n",
    "    df_silver_listings['host_has_profile_pic'],\n",
    "    df_silver_listings['host_identity_verified']\n",
    ")"
   ]
  },
  {
   "cell_type": "code",
   "execution_count": 5,
   "id": "0d9c7ada-7f97-4afa-bf46-0ea169fc87a8",
   "metadata": {
    "jupyter": {
     "outputs_hidden": false,
     "source_hidden": false
    },
    "microsoft": {
     "language": "python",
     "language_group": "synapse_pyspark"
    },
    "nteract": {
     "transient": {
      "deleting": false
     }
    }
   },
   "outputs": [
    {
     "data": {
      "application/vnd.livy.statement-meta+json": {
       "execution_finish_time": "2024-06-22T04:32:23.2735616Z",
       "execution_start_time": "2024-06-22T04:32:22.9694193Z",
       "livy_statement_state": "available",
       "parent_msg_id": "2e5c0750-9816-46da-956f-29584328ab81",
       "queued_time": "2024-06-22T04:32:22.3630922Z",
       "session_id": "c09d528a-1658-449c-9b98-73c84e483a44",
       "session_start_time": null,
       "spark_pool": null,
       "state": "finished",
       "statement_id": 7,
       "statement_ids": [
        7
       ]
      },
      "text/plain": [
       "StatementMeta(, c09d528a-1658-449c-9b98-73c84e483a44, 7, Finished, Available)"
      ]
     },
     "metadata": {},
     "output_type": "display_data"
    }
   ],
   "source": [
    "df_dim_hosts = df_dim_hosts.drop_duplicates(['host_id'])"
   ]
  },
  {
   "cell_type": "markdown",
   "id": "3791c4e5-ab66-43e8-8a5e-29edc9380223",
   "metadata": {
    "microsoft": {
     "language": "python",
     "language_group": "synapse_pyspark"
    },
    "nteract": {
     "transient": {
      "deleting": false
     }
    }
   },
   "source": [
    "### Load Gold Table dim_hosts"
   ]
  },
  {
   "cell_type": "code",
   "execution_count": 8,
   "id": "b017255a-2e87-4ff1-9a2f-d04e8450011a",
   "metadata": {
    "jupyter": {
     "outputs_hidden": false,
     "source_hidden": false
    },
    "microsoft": {
     "language": "python",
     "language_group": "synapse_pyspark"
    },
    "nteract": {
     "transient": {
      "deleting": false
     }
    }
   },
   "outputs": [
    {
     "data": {
      "application/vnd.livy.statement-meta+json": {
       "execution_finish_time": "2024-06-22T04:35:38.3240311Z",
       "execution_start_time": "2024-06-22T04:35:23.3546768Z",
       "livy_statement_state": "available",
       "parent_msg_id": "d39c7e42-79ef-4a58-bf3b-e10546773d50",
       "queued_time": "2024-06-22T04:35:22.7200633Z",
       "session_id": "c09d528a-1658-449c-9b98-73c84e483a44",
       "session_start_time": null,
       "spark_pool": null,
       "state": "finished",
       "statement_id": 10,
       "statement_ids": [
        10
       ]
      },
      "text/plain": [
       "StatementMeta(, c09d528a-1658-449c-9b98-73c84e483a44, 10, Finished, Available)"
      ]
     },
     "metadata": {},
     "output_type": "display_data"
    }
   ],
   "source": [
    "df_dim_hosts.write.format(\"delta\").mode(\"overwrite\").save(\"Tables/dim_hosts\")"
   ]
  },
  {
   "cell_type": "markdown",
   "id": "c299251f-5a79-4716-8091-e8459c0c6634",
   "metadata": {
    "jp-MarkdownHeadingCollapsed": true,
    "microsoft": {
     "language": "python",
     "language_group": "synapse_pyspark"
    },
    "nteract": {
     "transient": {
      "deleting": false
     }
    }
   },
   "source": [
    "## Fact Listings"
   ]
  },
  {
   "cell_type": "markdown",
   "id": "c9d00c36-b298-4643-bd9f-6b265ee4ca8a",
   "metadata": {
    "microsoft": {
     "language": "python",
     "language_group": "synapse_pyspark"
    },
    "nteract": {
     "transient": {
      "deleting": false
     }
    }
   },
   "source": [
    "### Read Table"
   ]
  },
  {
   "cell_type": "code",
   "execution_count": null,
   "id": "eb57786d-4629-4a9c-8658-e1c2c6c64edc",
   "metadata": {
    "jupyter": {
     "outputs_hidden": false,
     "source_hidden": false
    },
    "microsoft": {
     "language": "python",
     "language_group": "synapse_pyspark"
    },
    "nteract": {
     "transient": {
      "deleting": false
     }
    }
   },
   "outputs": [],
   "source": [
    "df_silver_listings = spark.read.table('silver_listings')"
   ]
  },
  {
   "cell_type": "markdown",
   "id": "6d1d45c0-cae1-49ac-b777-8b4ac997c04a",
   "metadata": {
    "nteract": {
     "transient": {
      "deleting": false
     }
    }
   },
   "source": [
    "### Transform Table"
   ]
  },
  {
   "cell_type": "code",
   "execution_count": 9,
   "id": "e25e764e-1de9-4ac5-b5ac-e7241ecb68e8",
   "metadata": {
    "jupyter": {
     "outputs_hidden": false,
     "source_hidden": false
    },
    "microsoft": {
     "language": "python",
     "language_group": "synapse_pyspark"
    },
    "nteract": {
     "transient": {
      "deleting": false
     }
    }
   },
   "outputs": [
    {
     "data": {
      "application/vnd.livy.statement-meta+json": {
       "execution_finish_time": "2024-06-22T04:36:01.9013493Z",
       "execution_start_time": "2024-06-22T04:36:01.6025409Z",
       "livy_statement_state": "available",
       "parent_msg_id": "ca9c8986-1c81-4bda-8814-7a319f2c71f5",
       "queued_time": "2024-06-22T04:36:01.0192432Z",
       "session_id": "c09d528a-1658-449c-9b98-73c84e483a44",
       "session_start_time": null,
       "spark_pool": null,
       "state": "finished",
       "statement_id": 11,
       "statement_ids": [
        11
       ]
      },
      "text/plain": [
       "StatementMeta(, c09d528a-1658-449c-9b98-73c84e483a44, 11, Finished, Available)"
      ]
     },
     "metadata": {},
     "output_type": "display_data"
    }
   ],
   "source": [
    "df_fact_listings = df_silver_listings.select(\n",
    "    df_silver_listings['listing_id'],\n",
    "    df_silver_listings['host_id'],\n",
    "    df_silver_listings['location_id'],\n",
    "    df_silver_listings['listing_name'],\n",
    "    df_silver_listings['neighbourhood'],\n",
    "    df_silver_listings['latitude'],\n",
    "    df_silver_listings['longitude'],\n",
    "    df_silver_listings['property_type'],\n",
    "    df_silver_listings['room_type'],\n",
    "    df_silver_listings['accommodates'],\n",
    "    df_silver_listings['bedrooms'],\n",
    "    df_silver_listings['amenities'],\n",
    "    df_silver_listings['price'],\n",
    "    df_silver_listings['minimum_nights'],\n",
    "    df_silver_listings['maximum_nights'],\n",
    "    df_silver_listings['first_review'],\n",
    "    df_silver_listings['last_review'],\n",
    "    df_silver_listings['review_scores_rating'],\n",
    "    df_silver_listings['review_scores_accuracy'],\n",
    "    df_silver_listings['review_scores_cleanliness'],\n",
    "    df_silver_listings['review_scores_checkin'],\n",
    "    df_silver_listings['review_scores_communication'],\n",
    "    df_silver_listings['review_scores_location'],\n",
    "    df_silver_listings['review_scores_value'],\n",
    "    df_silver_listings['instant_bookable']\n",
    ")"
   ]
  },
  {
   "cell_type": "markdown",
   "id": "cca06095-307d-46ac-8820-af4900e7b05a",
   "metadata": {
    "microsoft": {
     "language": "python",
     "language_group": "synapse_pyspark"
    },
    "nteract": {
     "transient": {
      "deleting": false
     }
    }
   },
   "source": [
    "### Load Gold Table fact_listings"
   ]
  },
  {
   "cell_type": "code",
   "execution_count": 10,
   "id": "edc43739-6135-40e8-a4d8-8c908b60e03d",
   "metadata": {
    "jupyter": {
     "outputs_hidden": false,
     "source_hidden": false
    },
    "microsoft": {
     "language": "python",
     "language_group": "synapse_pyspark"
    },
    "nteract": {
     "transient": {
      "deleting": false
     }
    }
   },
   "outputs": [
    {
     "data": {
      "application/vnd.livy.statement-meta+json": {
       "execution_finish_time": "2024-06-22T04:37:07.7424036Z",
       "execution_start_time": "2024-06-22T04:37:02.2275497Z",
       "livy_statement_state": "available",
       "parent_msg_id": "11e6351a-d8d1-45d4-9893-f28b1c0b9137",
       "queued_time": "2024-06-22T04:37:01.5719766Z",
       "session_id": "c09d528a-1658-449c-9b98-73c84e483a44",
       "session_start_time": null,
       "spark_pool": null,
       "state": "finished",
       "statement_id": 12,
       "statement_ids": [
        12
       ]
      },
      "text/plain": [
       "StatementMeta(, c09d528a-1658-449c-9b98-73c84e483a44, 12, Finished, Available)"
      ]
     },
     "metadata": {},
     "output_type": "display_data"
    }
   ],
   "source": [
    "df_fact_listings.write.format(\"delta\").mode(\"overwrite\").save(\"Tables/fact_listings\")"
   ]
  }
 ],
 "metadata": {
  "dependencies": {
   "lakehouse": {
    "default_lakehouse": "e8b89f9a-04d9-441c-97d1-0e7695063239",
    "default_lakehouse_name": "airbnb_lh",
    "default_lakehouse_workspace_id": "b3847ca5-bbe3-4234-b60e-a995339590e7"
   }
  },
  "kernel_info": {
   "name": "synapse_pyspark"
  },
  "kernelspec": {
   "display_name": "synapse_pyspark",
   "name": "synapse_pyspark"
  },
  "language_info": {
   "name": "python"
  },
  "microsoft": {
   "language": "python",
   "language_group": "synapse_pyspark",
   "ms_spell_check": {
    "ms_spell_check_language": "en"
   }
  },
  "nteract": {
   "version": "nteract-front-end@1.0.0"
  },
  "spark_compute": {
   "compute_id": "/trident/default"
  },
  "widgets": {}
 },
 "nbformat": 4,
 "nbformat_minor": 5
}
